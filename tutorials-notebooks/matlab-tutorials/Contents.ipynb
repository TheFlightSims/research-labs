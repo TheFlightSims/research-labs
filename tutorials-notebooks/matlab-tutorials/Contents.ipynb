{
 "cells": [
  {
   "cell_type": "markdown",
   "metadata": {},
   "source": [
    "<h1 align=center> Matlab Tutorial<h1>"
   ]
  },
  {
   "cell_type": "markdown",
   "metadata": {},
   "source": [
    "## Matlab in Jupyter Notebook\n",
    "- [About Jupyter Notebook](http://jupyter.org/)\n",
    "- [how to set-up jupyter notebook](https://jupyter-notebook-beginner-guide.readthedocs.io/en/latest/)\n",
    "- [ how to use jupyter notebook](http://nbviewer.jupyter.org/github/jupyter/notebook/blob/master/docs/source/examples/Notebook/Notebook%20Basics.ipynb)\n",
    "- [Install Matlab Kernel](https://github.com/Calysto/matlab_kernel) \n",
    "\n",
    "#### Github Repository for Matlab Tutorial using Jupyter Notebook\n",
    " [https://github.com/alamgirh/matlab-tutorial](https://github.com/alamgirh/matlab-tutorial)\n",
    "\n",
    "## Contents\n",
    "- [Basic operations](http://nbviewer.jupyter.org/github/alamgirh/matlab-tutorial/blob/master/matlabBasic.ipynb)\n",
    "- [Functions](http://nbviewer.jupyter.org/github/alamgirh/matlab-tutorial/blob/master/matlabFunctions.ipynb) \n",
    "- [Conditions](http://nbviewer.jupyter.org/github/alamgirh/matlab-tutorial/blob/master/matlabConditions.ipynb) \n",
    "- [ Loops](http://nbviewer.jupyter.org/github/alamgirh/matlab-tutorial/blob/master/matlabLoops.ipynb)\n",
    "- [Plotting](http://nbviewer.jupyter.org/github/alamgirh/matlab-tutorial/blob/master/matlabPlots.ipynb)\n",
    "- Nummerical methods\n",
    " - [Numerical integration](http://nbviewer.jupyter.org/github/alamgirh/matlab-tutorial/blob/master/matlabIntegrations.ipynb)\n",
    " - [Numerical Differentiation](http://nbviewer.jupyter.org/github/alamgirh/matlab-tutorial/blob/master/matlabDifferentiation.ipynb)\n",
    " - [Ordinary Differential Equations](http://nbviewer.jupyter.org/github/alamgirh/matlab-tutorial/blob/master/matlabODE.ipynb)\n",
    "- Complex Analysis\n",
    " - [Complex Function](http://nbviewer.jupyter.org/github/alamgirh/matlab-tutorial/blob/master/matlabComplex.ipynb)"
   ]
  },
  {
   "cell_type": "markdown",
   "metadata": {},
   "source": [
    "<br>\n",
    "<img align=left src=\"https://raw.githubusercontent.com/jupyter/nature-demo/master/images/jupyter-logo.png\" width=\"300px\" style=\"margin-left: 10px;\"> \n",
    "<img align=right src=\"https://engineering.usu.edu/images/MATLAB-Logo.png\" width=\"300px\" style=\"margin-right: 10px;\">"
   ]
  }
 ],
 "metadata": {
  "kernelspec": {
   "display_name": "Python 2",
   "language": "python",
   "name": "python2"
  },
  "language_info": {
   "codemirror_mode": {
    "name": "ipython",
    "version": 2
   },
   "file_extension": ".py",
   "mimetype": "text/x-python",
   "name": "python",
   "nbconvert_exporter": "python",
   "pygments_lexer": "ipython2",
   "version": "2.7.12"
  }
 },
 "nbformat": 4,
 "nbformat_minor": 1
}
