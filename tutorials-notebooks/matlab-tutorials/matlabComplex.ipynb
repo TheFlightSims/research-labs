{
 "cells": [
  {
   "cell_type": "markdown",
   "metadata": {},
   "source": [
    "# Complex Function"
   ]
  },
  {
   "cell_type": "code",
   "execution_count": 2,
   "metadata": {
    "collapsed": true
   },
   "outputs": [],
   "source": [
    "%plot gnuplot"
   ]
  },
  {
   "cell_type": "code",
   "execution_count": 3,
   "metadata": {
    "collapsed": false
   },
   "outputs": [],
   "source": [
    "clear all\n",
    "Lx = 4.0;  Ly = 4.0;\n",
    "dx = 0.1;\n",
    "x = -Lx:dx:Lx;\n",
    "y = -Ly:dx:Ly;\n",
    "\n",
    "[xx,yy] = meshgrid(x,y);\n",
    "zz = xx + 1i*yy;  %%%Up to this point the complex mesh is created\n",
    "phi=log(zz);\n",
    "\n",
    "figure(1001)\n",
    "surf(xx,yy,real(phi))\n",
    "axis([-Lx Lx -Ly Ly])\n",
    "xlabel('Re(z)-axis')\n",
    "ylabel('Im(z)-axis')\n",
    "title('Surface plot of Re(log(z))','fontsize',16)\n",
    "\n",
    "figure(1002)\n",
    "zz = xx + 1i*yy;  %%%Up to this point the complex mesh is created\n",
    "surf(xx,yy,imag(phi))\n",
    "axis([-Lx Lx -Ly Ly])\n",
    "xlabel('Re(z)-axis')\n",
    "ylabel('Im(z)-axis')\n",
    "title('Surface plot of Im(log(z))','fontsize',16)\n",
    "\n",
    "contn = 10; %How may contours you want to plot?\n",
    "%  imag part \n",
    "figure(12);  clf;\n",
    "contourf(x,y,imag(phi),contn);  hold on\n",
    "contour(x,y,real(phi),contn,'w');  \n",
    "hold off\n",
    "colorbar\n",
    "axis equal\n",
    "axis([-Lx Lx -Ly Ly])\n",
    "xlabel('Re(z)-axis')\n",
    "ylabel('Im(z)-axis')\n",
    "title('contours of Im(log(z))','fontsize',16)\n",
    "\n",
    "%  real part\n",
    "figure(22);  clf;\n",
    "contourf(x,y,real(phi),contn);  hold on\n",
    "contour(x,y,imag(phi),contn,'w');  \n",
    "colorbar\n",
    "axis equal\n",
    "axis([-Lx Lx -Ly Ly])\n",
    "xlabel('Re(z)-axis')\n",
    "ylabel('Im(z)-axis')\n",
    "title('contours of Re(log(z))','fontsize',12)"
   ]
  },
  {
   "cell_type": "markdown",
   "metadata": {
    "collapsed": false
   },
   "source": [
    " <table style=\"width:100%\">\n",
    "  <tr>\n",
    "    <th>\n",
    "    <img src=\"images/Relogz.png\" alt=\"contours of Im(log(z))\" style=\"width:400px;height:300px;\">\n",
    "</th>\n",
    "    <th>\n",
    "    <img src=\"images/Imlogz.png\" alt=\"contours of Im(log(z))\" style=\"width:400px;height:300px;\">\n",
    "</th>\n",
    "  </tr>\n",
    "  <tr>\n",
    "    <td>\n",
    "    <img src=\"images/Recontlogz.png\" alt=\"contours of Im(log(z))\" style=\"width:400px;height:300px;\">\n",
    "</td>\n",
    "    <td>\n",
    "    <img src=\"images/Imcontlogz.png\" alt=\"contours of Im(log(z))\" style=\"width:400px;height:300px;\">\n",
    "    </td>\n",
    "  </tr>\n",
    "  </table> \n"
   ]
  }
 ],
 "metadata": {
  "kernelspec": {
   "display_name": "Matlab",
   "language": "matlab",
   "name": "matlab"
  },
  "language_info": {
   "codemirror_mode": "octave",
   "file_extension": ".m",
   "help_links": [
    {
     "text": "MetaKernel Magics",
     "url": "https://github.com/calysto/metakernel/blob/master/metakernel/magics/README.md"
    }
   ],
   "mimetype": "text/x-octave",
   "name": "matlab",
   "version": "0.11.0"
  }
 },
 "nbformat": 4,
 "nbformat_minor": 1
}
