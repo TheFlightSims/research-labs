{
 "cells": [
  {
   "cell_type": "markdown",
   "metadata": {
    "slideshow": {
     "slide_type": "slide"
    }
   },
   "source": [
    "<h1 align=center> Matlab Tutorial<h1>\n",
    "<br>\n",
    "<img align=left src=\"https://raw.githubusercontent.com/jupyter/nature-demo/master/images/jupyter-logo.png\" width=\"300px\" style=\"margin-left: 10px;\"> \n",
    "<img align=right src=\"https://engineering.usu.edu/images/MATLAB-Logo.png\" width=\"300px\" style=\"margin-right: 10px;\">"
   ]
  },
  {
   "cell_type": "markdown",
   "metadata": {
    "slideshow": {
     "slide_type": "slide"
    }
   },
   "source": [
    "## Basic Operations"
   ]
  },
  {
   "cell_type": "code",
   "execution_count": 1,
   "metadata": {
    "collapsed": false,
    "slideshow": {
     "slide_type": "slide"
    }
   },
   "outputs": [
    {
     "name": "stdout",
     "output_type": "stream",
     "text": [
      "ans =\n",
      "\n",
      "    12\n"
     ]
    }
   ],
   "source": [
    "5+7"
   ]
  },
  {
   "cell_type": "code",
   "execution_count": 2,
   "metadata": {
    "collapsed": false,
    "slideshow": {
     "slide_type": "-"
    }
   },
   "outputs": [
    {
     "name": "stdout",
     "output_type": "stream",
     "text": [
      "ans =\n",
      "\n",
      "    1.5000\n"
     ]
    }
   ],
   "source": [
    "6/4"
   ]
  },
  {
   "cell_type": "code",
   "execution_count": 3,
   "metadata": {
    "collapsed": false,
    "slideshow": {
     "slide_type": "-"
    }
   },
   "outputs": [
    {
     "name": "stdout",
     "output_type": "stream",
     "text": [
      "ans =\n",
      "\n",
      "    -1\n"
     ]
    }
   ],
   "source": [
    "5-6"
   ]
  },
  {
   "cell_type": "code",
   "execution_count": 4,
   "metadata": {
    "collapsed": false,
    "slideshow": {
     "slide_type": "-"
    }
   },
   "outputs": [
    {
     "name": "stdout",
     "output_type": "stream",
     "text": [
      "ans =\n",
      "\n",
      "    25\n"
     ]
    }
   ],
   "source": [
    "5*5"
   ]
  },
  {
   "cell_type": "code",
   "execution_count": 5,
   "metadata": {
    "collapsed": false,
    "slideshow": {
     "slide_type": "slide"
    }
   },
   "outputs": [
    {
     "name": "stdout",
     "output_type": "stream",
     "text": [
      "ans =\n",
      "\n",
      "    16\n"
     ]
    }
   ],
   "source": [
    "2^4"
   ]
  },
  {
   "cell_type": "code",
   "execution_count": 6,
   "metadata": {
    "collapsed": false,
    "slideshow": {
     "slide_type": "-"
    }
   },
   "outputs": [
    {
     "name": "stdout",
     "output_type": "stream",
     "text": [
      "ans =\n",
      "\n",
      "   -0.9589\n"
     ]
    }
   ],
   "source": [
    "sin(5)"
   ]
  },
  {
   "cell_type": "code",
   "execution_count": 7,
   "metadata": {
    "collapsed": false,
    "slideshow": {
     "slide_type": "-"
    }
   },
   "outputs": [
    {
     "name": "stdout",
     "output_type": "stream",
     "text": [
      "ans =\n",
      "\n",
      "    0.2837\n"
     ]
    }
   ],
   "source": [
    "cos(5)"
   ]
  },
  {
   "cell_type": "code",
   "execution_count": 8,
   "metadata": {
    "collapsed": false,
    "slideshow": {
     "slide_type": "-"
    }
   },
   "outputs": [
    {
     "name": "stdout",
     "output_type": "stream",
     "text": [
      "ans =\n",
      "\n",
      "  -1.2246e-16\n"
     ]
    }
   ],
   "source": [
    "tan(pi)"
   ]
  },
  {
   "cell_type": "code",
   "execution_count": 9,
   "metadata": {
    "collapsed": false,
    "slideshow": {
     "slide_type": "slide"
    }
   },
   "outputs": [
    {
     "name": "stdout",
     "output_type": "stream",
     "text": [
      "ans =\n",
      "\n",
      "    3.1416\n"
     ]
    }
   ],
   "source": [
    "pi"
   ]
  },
  {
   "cell_type": "code",
   "execution_count": 10,
   "metadata": {
    "collapsed": false
   },
   "outputs": [],
   "source": [
    "format long"
   ]
  },
  {
   "cell_type": "code",
   "execution_count": 11,
   "metadata": {
    "collapsed": false
   },
   "outputs": [
    {
     "name": "stdout",
     "output_type": "stream",
     "text": [
      "ans =\n",
      "\n",
      "   3.141592653589793\n"
     ]
    }
   ],
   "source": [
    "pi"
   ]
  },
  {
   "cell_type": "code",
   "execution_count": 12,
   "metadata": {
    "collapsed": true
   },
   "outputs": [],
   "source": [
    "format short"
   ]
  },
  {
   "cell_type": "code",
   "execution_count": 13,
   "metadata": {
    "collapsed": false
   },
   "outputs": [
    {
     "name": "stdout",
     "output_type": "stream",
     "text": [
      "ans =\n",
      "\n",
      "    2.7183\n"
     ]
    }
   ],
   "source": [
    "exp(1)"
   ]
  },
  {
   "cell_type": "code",
   "execution_count": 14,
   "metadata": {
    "collapsed": false,
    "slideshow": {
     "slide_type": "slide"
    }
   },
   "outputs": [],
   "source": [
    "format short"
   ]
  },
  {
   "cell_type": "code",
   "execution_count": 15,
   "metadata": {
    "collapsed": false
   },
   "outputs": [
    {
     "name": "stdout",
     "output_type": "stream",
     "text": [
      "ans =\n",
      "\n",
      "     1\n"
     ]
    }
   ],
   "source": [
    "log10(10)"
   ]
  },
  {
   "cell_type": "code",
   "execution_count": 16,
   "metadata": {
    "collapsed": false
   },
   "outputs": [
    {
     "name": "stdout",
     "output_type": "stream",
     "text": [
      "ans =\n",
      "\n",
      "   27.2899\n"
     ]
    }
   ],
   "source": [
    "sinh(4)"
   ]
  },
  {
   "cell_type": "code",
   "execution_count": 17,
   "metadata": {
    "collapsed": false
   },
   "outputs": [
    {
     "name": "stdout",
     "output_type": "stream",
     "text": [
      "ans =\n",
      "\n",
      "    0.9951\n"
     ]
    }
   ],
   "source": [
    "tanh(3)"
   ]
  },
  {
   "cell_type": "code",
   "execution_count": 18,
   "metadata": {
    "collapsed": false,
    "slideshow": {
     "slide_type": "slide"
    }
   },
   "outputs": [
    {
     "name": "stdout",
     "output_type": "stream",
     "text": [
      "ans =\n",
      "\n",
      "    -5\n"
     ]
    }
   ],
   "source": [
    "x =5;\n",
    "y = 10;\n",
    "x-y"
   ]
  },
  {
   "cell_type": "code",
   "execution_count": 19,
   "metadata": {
    "collapsed": false
   },
   "outputs": [
    {
     "name": "stdout",
     "output_type": "stream",
     "text": [
      "ans =\n",
      "\n",
      "    -5\n"
     ]
    }
   ],
   "source": [
    "ans"
   ]
  },
  {
   "cell_type": "markdown",
   "metadata": {
    "slideshow": {
     "slide_type": "slide"
    }
   },
   "source": [
    "# vector and matrix"
   ]
  },
  {
   "cell_type": "code",
   "execution_count": 20,
   "metadata": {
    "collapsed": false,
    "slideshow": {
     "slide_type": "slide"
    }
   },
   "outputs": [
    {
     "name": "stdout",
     "output_type": "stream",
     "text": [
      "x =\n",
      "\n",
      "     1     2\n"
     ]
    }
   ],
   "source": [
    "% row vector\n",
    "x=[1 2]"
   ]
  },
  {
   "cell_type": "code",
   "execution_count": 21,
   "metadata": {
    "collapsed": false
   },
   "outputs": [
    {
     "name": "stdout",
     "output_type": "stream",
     "text": [
      "y =\n",
      "\n",
      "     3\n",
      "     4\n"
     ]
    }
   ],
   "source": [
    "% column vector \n",
    "y=[3;4]"
   ]
  },
  {
   "cell_type": "code",
   "execution_count": 22,
   "metadata": {
    "collapsed": false
   },
   "outputs": [
    {
     "name": "stdout",
     "output_type": "stream",
     "text": [
      "ans =\n",
      "\n",
      "     3     4\n"
     ]
    }
   ],
   "source": [
    "% transpose\n",
    "y'"
   ]
  },
  {
   "cell_type": "code",
   "execution_count": 23,
   "metadata": {
    "collapsed": false,
    "slideshow": {
     "slide_type": "slide"
    }
   },
   "outputs": [
    {
     "name": "stdout",
     "output_type": "stream",
     "text": [
      "A =\n",
      "\n",
      "     1     2\n",
      "     3     4\n"
     ]
    }
   ],
   "source": [
    "A=[1 2; 3 4]"
   ]
  },
  {
   "cell_type": "code",
   "execution_count": 24,
   "metadata": {
    "collapsed": false
   },
   "outputs": [
    {
     "name": "stdout",
     "output_type": "stream",
     "text": [
      "B =\n",
      "\n",
      "     5     6\n",
      "     7     8\n"
     ]
    }
   ],
   "source": [
    "B = [5 6; 7 8]"
   ]
  },
  {
   "cell_type": "code",
   "execution_count": 25,
   "metadata": {
    "collapsed": false
   },
   "outputs": [
    {
     "name": "stdout",
     "output_type": "stream",
     "text": [
      "ans =\n",
      "\n",
      "     6     8\n",
      "    10    12\n"
     ]
    }
   ],
   "source": [
    "A+B"
   ]
  },
  {
   "cell_type": "markdown",
   "metadata": {
    "slideshow": {
     "slide_type": "slide"
    }
   },
   "source": [
    "- $A*A$ and A^2 are same but A.^2 is different! \n",
    "- $A*A$ or A^2 are the multiplication of A with A; \n",
    "- A.^2 is the square of each element of A."
   ]
  },
  {
   "cell_type": "code",
   "execution_count": 39,
   "metadata": {
    "collapsed": false,
    "slideshow": {
     "slide_type": "slide"
    }
   },
   "outputs": [
    {
     "name": "stdout",
     "output_type": "stream",
     "text": [
      "A =\n",
      "\n",
      "     1     2\n",
      "     3     4\n"
     ]
    }
   ],
   "source": [
    "A=[1 2; 3 4]"
   ]
  },
  {
   "cell_type": "code",
   "execution_count": 40,
   "metadata": {
    "collapsed": false,
    "slideshow": {
     "slide_type": "slide"
    }
   },
   "outputs": [
    {
     "name": "stdout",
     "output_type": "stream",
     "text": [
      "ans =\n",
      "\n",
      "     7    10\n",
      "    15    22\n",
      "\n",
      "\n",
      "ans =\n",
      "\n",
      "     7    10\n",
      "    15    22\n",
      "\n",
      "\n",
      "ans =\n",
      "\n",
      "     1     4\n",
      "     9    16\n"
     ]
    }
   ],
   "source": [
    "A*A\n",
    "A^2\n",
    "A.^2"
   ]
  },
  {
   "cell_type": "markdown",
   "metadata": {
    "slideshow": {
     "slide_type": "slide"
    }
   },
   "source": [
    "## Element-wise operations\n",
    "$.*$<br> $./$ <br> $.^$ <br> are element-wise operations."
   ]
  },
  {
   "cell_type": "code",
   "execution_count": 41,
   "metadata": {
    "collapsed": false,
    "slideshow": {
     "slide_type": "slide"
    }
   },
   "outputs": [],
   "source": [
    "P = [2, 4]; Q = [3, 2];"
   ]
  },
  {
   "cell_type": "code",
   "execution_count": 42,
   "metadata": {
    "collapsed": false
   },
   "outputs": [
    {
     "name": "stdout",
     "output_type": "stream",
     "text": [
      "ans =\n",
      "\n",
      "     6     8\n",
      "\n",
      "\n",
      "ans =\n",
      "\n",
      "    0.6667    2.0000\n",
      "\n",
      "\n",
      "ans =\n",
      "\n",
      "     8    16\n"
     ]
    }
   ],
   "source": [
    "P.*Q\n",
    "P./Q\n",
    "P.^Q"
   ]
  },
  {
   "cell_type": "code",
   "execution_count": 43,
   "metadata": {
    "collapsed": false,
    "slideshow": {
     "slide_type": "slide"
    }
   },
   "outputs": [
    {
     "name": "stdout",
     "output_type": "stream",
     "text": [
      "B =\n",
      "\n",
      "     1     2\n",
      "     3     4\n"
     ]
    }
   ],
   "source": [
    "B = [1 2; 3 4]"
   ]
  },
  {
   "cell_type": "code",
   "execution_count": 44,
   "metadata": {
    "collapsed": false
   },
   "outputs": [
    {
     "name": "stdout",
     "output_type": "stream",
     "text": [
      "C =\n",
      "\n",
      "   -2.0000    1.0000\n",
      "    1.5000   -0.5000\n"
     ]
    }
   ],
   "source": [
    "% inverse\n",
    "C=B^(-1)"
   ]
  },
  {
   "cell_type": "code",
   "execution_count": 45,
   "metadata": {
    "collapsed": false
   },
   "outputs": [
    {
     "name": "stdout",
     "output_type": "stream",
     "text": [
      "ans =\n",
      "\n",
      "   -2.0000    1.0000\n",
      "    1.5000   -0.5000\n"
     ]
    }
   ],
   "source": [
    "inv(B)"
   ]
  },
  {
   "cell_type": "code",
   "execution_count": 46,
   "metadata": {
    "collapsed": false,
    "slideshow": {
     "slide_type": "slide"
    }
   },
   "outputs": [
    {
     "name": "stdout",
     "output_type": "stream",
     "text": [
      "B =\n",
      "\n",
      "     1     2\n",
      "     3     4\n"
     ]
    }
   ],
   "source": [
    "B = [1 2; 3 4]"
   ]
  },
  {
   "cell_type": "code",
   "execution_count": 47,
   "metadata": {
    "collapsed": false,
    "slideshow": {
     "slide_type": "-"
    }
   },
   "outputs": [
    {
     "name": "stdout",
     "output_type": "stream",
     "text": [
      "ans =\n",
      "\n",
      "    -2\n"
     ]
    }
   ],
   "source": [
    "% determinant\n",
    "det(B)"
   ]
  },
  {
   "cell_type": "code",
   "execution_count": 67,
   "metadata": {
    "collapsed": false,
    "slideshow": {
     "slide_type": "slide"
    }
   },
   "outputs": [
    {
     "name": "stdout",
     "output_type": "stream",
     "text": [
      "A =\n",
      "\n",
      "     1     2     3\n",
      "     4     5     6\n",
      "     7     8    98\n"
     ]
    }
   ],
   "source": [
    "A=[1 2 3; 4 5 6; 7 8 98]"
   ]
  },
  {
   "cell_type": "markdown",
   "metadata": {},
   "source": [
    "$\\left[ \\begin{array}{ccc} a_{1,1} &  a_{1,2} &  a_{1,3}\\\\\n",
    "a_{2,1} &   a_{2,2}  &  a_{2,3}\\\\\n",
    "a_{3,1} &   a_{3,2}  &  a_{3,3} \\end{array} \\right]$"
   ]
  },
  {
   "cell_type": "code",
   "execution_count": 68,
   "metadata": {
    "collapsed": false
   },
   "outputs": [
    {
     "name": "stdout",
     "output_type": "stream",
     "text": [
      "ans =\n",
      "\n",
      "     3\n",
      "     6\n",
      "    98\n"
     ]
    }
   ],
   "source": [
    "A(1:3,3)"
   ]
  },
  {
   "cell_type": "code",
   "execution_count": 69,
   "metadata": {
    "collapsed": false
   },
   "outputs": [
    {
     "name": "stdout",
     "output_type": "stream",
     "text": [
      "ans =\n",
      "\n",
      "     3\n",
      "     6\n",
      "    98\n"
     ]
    }
   ],
   "source": [
    "A(:,3)"
   ]
  },
  {
   "cell_type": "code",
   "execution_count": 70,
   "metadata": {
    "collapsed": false
   },
   "outputs": [
    {
     "name": "stdout",
     "output_type": "stream",
     "text": [
      "ans =\n",
      "\n",
      "     1\n",
      "     4\n",
      "     7\n",
      "     2\n",
      "     5\n",
      "     8\n",
      "     3\n",
      "     6\n",
      "    98\n"
     ]
    }
   ],
   "source": [
    "A(:)"
   ]
  },
  {
   "cell_type": "code",
   "execution_count": 51,
   "metadata": {
    "collapsed": false
   },
   "outputs": [
    {
     "name": "stdout",
     "output_type": "stream",
     "text": [
      "ans =\n",
      "\n",
      "     3     3\n"
     ]
    }
   ],
   "source": [
    "size(A)"
   ]
  },
  {
   "cell_type": "code",
   "execution_count": 52,
   "metadata": {
    "collapsed": false,
    "slideshow": {
     "slide_type": "slide"
    }
   },
   "outputs": [
    {
     "name": "stdout",
     "output_type": "stream",
     "text": [
      "EIG    Eigenvalues and eigenvectors.\n",
      "    E = EIG(A) produces a column vector E containing the eigenvalues of \n",
      "    a square matrix A.\n",
      " \n",
      "    [V,D] = EIG(A) produces a diagonal matrix D of eigenvalues and \n",
      "    a full matrix V whose columns are the corresponding eigenvectors  \n",
      "    so that A*V = V*D.\n",
      "  \n",
      "    [V,D,W] = EIG(A) also produces a full matrix W whose columns are the\n",
      "    corresponding left eigenvectors so that W'*A = D*W'.\n",
      " \n",
      "    [...] = EIG(A,'nobalance') performs the computation with balancing\n",
      "    disabled, which sometimes gives more accurate results for certain\n",
      "    problems with unusual scaling. If A is symmetric, EIG(A,'nobalance')\n",
      "    is ignored since A is already balanced.\n",
      " \n",
      "    [...] = EIG(A,'balance') is the same as EIG(A).\n",
      " \n",
      "    E = EIG(A,B) produces a column vector E containing the generalized \n",
      "    eigenvalues of square matrices A and B.\n",
      " \n",
      "    [V,D] = EIG(A,B) produces a diagonal matrix D of generalized\n",
      "    eigenvalues and a full matrix V whose columns are the corresponding\n",
      "    eigenvectors so that A*V = B*V*D.\n",
      " \n",
      "    [V,D,W] = EIG(A,B) also produces a full matrix W whose columns are the\n",
      "    corresponding left eigenvectors so that W'*A = D*W'*B.\n",
      " \n",
      "    [...] = EIG(A,B,'chol') is the same as EIG(A,B) for symmetric A and\n",
      "    symmetric positive definite B.  It computes the generalized eigenvalues\n",
      "    of A and B using the Cholesky factorization of B.\n",
      " \n",
      "    [...] = EIG(A,B,'qz') ignores the symmetry of A and B and uses the QZ\n",
      "    algorithm. In general, the two algorithms return the same result,\n",
      "    however using the QZ algorithm may be more stable for certain problems.\n",
      "    The flag is ignored when A or B are not symmetric.\n",
      " \n",
      "    [...] = EIG(...,'vector') returns eigenvalues in a column vector \n",
      "    instead of a diagonal matrix.\n",
      " \n",
      "    [...] = EIG(...,'matrix') returns eigenvalues in a diagonal matrix\n",
      "    instead of a column vector.\n",
      " \n",
      "    See also CONDEIG, EIGS, ORDEIG.\n",
      "\n",
      "    Reference page in Doc Center\n",
      "       doc eig\n",
      "\n",
      "    Other functions named eig\n",
      "\n",
      "       sym/eig\n"
     ]
    }
   ],
   "source": [
    "help eig "
   ]
  },
  {
   "cell_type": "code",
   "execution_count": 53,
   "metadata": {
    "collapsed": false
   },
   "outputs": [
    {
     "name": "stdout",
     "output_type": "stream",
     "text": [
      "eigvec =\n",
      "\n",
      "   -0.0319   -0.8127   -0.3296\n",
      "   -0.0652    0.5826   -0.9381\n",
      "   -0.9974    0.0104    0.1063\n",
      "\n",
      "\n",
      "eigval =\n",
      "\n",
      "   98.7472         0         0\n",
      "         0   -0.4723         0\n",
      "         0         0    5.7251\n"
     ]
    }
   ],
   "source": [
    "[eigvec, eigval] = eig(A)"
   ]
  },
  {
   "cell_type": "code",
   "execution_count": 54,
   "metadata": {
    "collapsed": false,
    "slideshow": {
     "slide_type": "slide"
    }
   },
   "outputs": [
    {
     "name": "stdout",
     "output_type": "stream",
     "text": [
      "A =\n",
      "\n",
      "     0     0     0\n",
      "     0     0     0\n",
      "     0     0     0\n"
     ]
    }
   ],
   "source": [
    " A=zeros(3)"
   ]
  },
  {
   "cell_type": "code",
   "execution_count": 55,
   "metadata": {
    "collapsed": false
   },
   "outputs": [
    {
     "name": "stdout",
     "output_type": "stream",
     "text": [
      "A =\n",
      "\n",
      "     1     0     0     0\n",
      "     0     1     0     0\n",
      "     0     0     1     0\n",
      "     0     0     0     1\n"
     ]
    }
   ],
   "source": [
    "%identity matrix\n",
    "A = eye(4)"
   ]
  },
  {
   "cell_type": "code",
   "execution_count": 56,
   "metadata": {
    "collapsed": false,
    "slideshow": {
     "slide_type": "slide"
    }
   },
   "outputs": [
    {
     "name": "stdout",
     "output_type": "stream",
     "text": [
      "A =\n",
      "\n",
      "    0.8147    0.6324    0.9575    0.9572\n",
      "    0.9058    0.0975    0.9649    0.4854\n",
      "    0.1270    0.2785    0.1576    0.8003\n",
      "    0.9134    0.5469    0.9706    0.1419\n"
     ]
    }
   ],
   "source": [
    "A=rand(4)"
   ]
  },
  {
   "cell_type": "markdown",
   "metadata": {
    "slideshow": {
     "slide_type": "slide"
    }
   },
   "source": [
    "### Solve the linear system $Ax =b$.\n",
    "For example, solve the following system of linear equations:<br>\n",
    "x+2y+3z = 1 <br>\n",
    "3x+3y+4z = 1 <br>\n",
    "2x+3y+3z = 2"
   ]
  },
  {
   "cell_type": "markdown",
   "metadata": {},
   "source": [
    "Check the determinant whether the system has a unique solution or not. If $det(A)\\ne 0$ then the system has unique solution."
   ]
  },
  {
   "cell_type": "code",
   "execution_count": 57,
   "metadata": {
    "collapsed": false,
    "slideshow": {
     "slide_type": "slide"
    }
   },
   "outputs": [
    {
     "name": "stdout",
     "output_type": "stream",
     "text": [
      "ans =\n",
      "\n",
      "     4\n"
     ]
    }
   ],
   "source": [
    "A=[1 2 3; 3 3 4; 2 3 3];\n",
    "det(A)"
   ]
  },
  {
   "cell_type": "code",
   "execution_count": 58,
   "metadata": {
    "collapsed": false,
    "scrolled": true
   },
   "outputs": [
    {
     "name": "stdout",
     "output_type": "stream",
     "text": [
      "x =\n",
      "\n",
      "   -0.5000\n",
      "    1.5000\n",
      "   -0.5000\n"
     ]
    }
   ],
   "source": [
    "b=[1; 1; 2];\n",
    "x=A\\b"
   ]
  },
  {
   "cell_type": "markdown",
   "metadata": {
    "slideshow": {
     "slide_type": "slide"
    }
   },
   "source": [
    "## more vectors"
   ]
  },
  {
   "cell_type": "code",
   "execution_count": 59,
   "metadata": {
    "collapsed": false
   },
   "outputs": [
    {
     "name": "stdout",
     "output_type": "stream",
     "text": [
      "x =\n",
      "\n",
      "     1     2     3     4     5\n"
     ]
    }
   ],
   "source": [
    "x = 1:5"
   ]
  },
  {
   "cell_type": "code",
   "execution_count": 60,
   "metadata": {
    "collapsed": false
   },
   "outputs": [
    {
     "name": "stdout",
     "output_type": "stream",
     "text": [
      "x =\n",
      "\n",
      "  Columns 1 through 7\n",
      "\n",
      "    1.0000    1.5000    2.0000    2.5000    3.0000    3.5000    4.0000\n",
      "\n",
      "  Columns 8 through 9\n",
      "\n",
      "    4.5000    5.0000\n"
     ]
    }
   ],
   "source": [
    "x = 1:0.5:5"
   ]
  },
  {
   "cell_type": "code",
   "execution_count": 61,
   "metadata": {
    "collapsed": false
   },
   "outputs": [
    {
     "name": "stdout",
     "output_type": "stream",
     "text": [
      "ans =\n",
      "\n",
      "     9\n"
     ]
    }
   ],
   "source": [
    "length(x)"
   ]
  },
  {
   "cell_type": "code",
   "execution_count": 62,
   "metadata": {
    "collapsed": false,
    "slideshow": {
     "slide_type": "slide"
    }
   },
   "outputs": [
    {
     "name": "stdout",
     "output_type": "stream",
     "text": [
      "x =\n",
      "\n",
      "  Columns 1 through 7\n",
      "\n",
      "         0    0.5000    1.0000    1.5000    2.0000    2.5000    3.0000\n",
      "\n",
      "  Columns 8 through 11\n",
      "\n",
      "    3.5000    4.0000    4.5000    5.0000\n"
     ]
    }
   ],
   "source": [
    "x = linspace(0,5,11)"
   ]
  },
  {
   "cell_type": "code",
   "execution_count": 63,
   "metadata": {
    "collapsed": false
   },
   "outputs": [
    {
     "name": "stdout",
     "output_type": "stream",
     "text": [
      "index =\n",
      "\n",
      "     6     7     8     9    10    11\n"
     ]
    }
   ],
   "source": [
    "index = find(x>2)"
   ]
  },
  {
   "cell_type": "code",
   "execution_count": 64,
   "metadata": {
    "collapsed": false
   },
   "outputs": [
    {
     "name": "stdout",
     "output_type": "stream",
     "text": [
      "ans =\n",
      "\n",
      "    2.5000    3.0000    3.5000    4.0000    4.5000    5.0000\n"
     ]
    }
   ],
   "source": [
    "x(index)"
   ]
  },
  {
   "cell_type": "markdown",
   "metadata": {
    "slideshow": {
     "slide_type": "slide"
    }
   },
   "source": [
    "## run a script file \n",
    "For example plottest.m is an script file. plottest.m contains the following three lines:<br>\n",
    "x = 0:0.1:10;<br>\n",
    "y = sin(x);<br>\n",
    "plot(x,y)<br>\n",
    "We can run plottest.m by simply write plottest"
   ]
  },
  {
   "cell_type": "code",
   "execution_count": 65,
   "metadata": {
    "collapsed": false
   },
   "outputs": [
    {
     "data": {
      "image/png": "[encoded data removed]",
      "text/plain": [
       "<IPython.core.display.Image object>"
      ]
     },
     "metadata": {},
     "output_type": "display_data"
    }
   ],
   "source": [
    "plottest"
   ]
  }
 ],
 "metadata": {
  "celltoolbar": "Slideshow",
  "kernelspec": {
   "display_name": "Matlab",
   "language": "matlab",
   "name": "matlab"
  },
  "language_info": {
   "codemirror_mode": "octave",
   "file_extension": ".m",
   "help_links": [
    {
     "text": "MetaKernel Magics",
     "url": "https://github.com/calysto/metakernel/blob/master/metakernel/magics/README.md"
    }
   ],
   "mimetype": "text/x-octave",
   "name": "matlab",
   "version": "0.11.0"
  }
 },
 "nbformat": 4,
 "nbformat_minor": 1
}
